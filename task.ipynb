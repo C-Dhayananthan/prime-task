{
 "cells": [
  {
   "cell_type": "code",
   "execution_count": 37,
   "id": "ae36fc62",
   "metadata": {},
   "outputs": [],
   "source": [
    "import pandas as pd\n",
    "from bs4 import BeautifulSoup\n",
    "import urllib\n",
    "from tqdm import tqdm\n",
    "from selenium.webdriver import Chrome,Edge\n",
    "from selenium.webdriver.common.by import By\n",
    "from selenium.webdriver.common.action_chains import ActionChains\n",
    "from selenium.webdriver.support.ui import WebDriverWait\n",
    "from selenium.webdriver.support import expected_conditions as EC\n",
    "import time"
   ]
  },
  {
   "cell_type": "code",
   "execution_count": 38,
   "id": "90b04f0d",
   "metadata": {},
   "outputs": [],
   "source": [
    "driver = Edge(executable_path=\"D:\\PYTHON\\Primenumber task\\msedgedriver.exe\")"
   ]
  },
  {
   "cell_type": "code",
   "execution_count": 39,
   "id": "91f818dd",
   "metadata": {},
   "outputs": [],
   "source": [
    "driver.get('https://qcpi.questcdn.com/cdn/posting/?group=1950787&provider=1950787')"
   ]
  },
  {
   "cell_type": "code",
   "execution_count": 40,
   "id": "18c8d1d7",
   "metadata": {},
   "outputs": [],
   "source": [
    "soup2 = BeautifulSoup(driver.page_source , \"lxml\")"
   ]
  },
  {
   "cell_type": "code",
   "execution_count": 41,
   "id": "b99aa4a9",
   "metadata": {
    "scrolled": true
   },
   "outputs": [],
   "source": [
    "ids = []\n",
    "for i in soup2.findAll(\"td\"):\n",
    "    try:\n",
    "        int(i.find(\"a\",onclick = True).text)\n",
    "        ids.append(i.find(\"a\",onclick = True).text.strip())\n",
    "    except:\n",
    "        pass\n",
    "        "
   ]
  },
  {
   "cell_type": "code",
   "execution_count": 42,
   "id": "7e11a20b",
   "metadata": {},
   "outputs": [
    {
     "data": {
      "text/plain": [
       "['8526724',\n",
       " '8529878',\n",
       " '8534098',\n",
       " '8536176',\n",
       " '8539402',\n",
       " '8539418',\n",
       " '8544737',\n",
       " '8544742',\n",
       " '8554006']"
      ]
     },
     "execution_count": 42,
     "metadata": {},
     "output_type": "execute_result"
    }
   ],
   "source": [
    "ids #quest number"
   ]
  },
  {
   "cell_type": "code",
   "execution_count": 84,
   "id": "59aafb31",
   "metadata": {
    "scrolled": true
   },
   "outputs": [
    {
     "name": "stderr",
     "output_type": "stream",
     "text": [
      " 11%|█████████▎                                                                          | 1/9 [00:06<00:49,  6.17s/it]"
     ]
    },
    {
     "name": "stdout",
     "output_type": "stream",
     "text": [
      "done\n"
     ]
    },
    {
     "name": "stderr",
     "output_type": "stream",
     "text": [
      "\r",
      " 22%|██████████████████▋                                                                 | 2/9 [00:11<00:38,  5.56s/it]"
     ]
    },
    {
     "name": "stdout",
     "output_type": "stream",
     "text": [
      "done\n"
     ]
    },
    {
     "name": "stderr",
     "output_type": "stream",
     "text": [
      "\r",
      " 33%|████████████████████████████                                                        | 3/9 [00:16<00:32,  5.37s/it]"
     ]
    },
    {
     "name": "stdout",
     "output_type": "stream",
     "text": [
      "done\n"
     ]
    },
    {
     "name": "stderr",
     "output_type": "stream",
     "text": [
      "\r",
      " 44%|█████████████████████████████████████▎                                              | 4/9 [00:21<00:26,  5.29s/it]"
     ]
    },
    {
     "name": "stdout",
     "output_type": "stream",
     "text": [
      "done\n"
     ]
    },
    {
     "name": "stderr",
     "output_type": "stream",
     "text": [
      "\r",
      " 56%|██████████████████████████████████████████████▋                                     | 5/9 [00:26<00:20,  5.24s/it]"
     ]
    },
    {
     "name": "stdout",
     "output_type": "stream",
     "text": [
      "done\n"
     ]
    },
    {
     "name": "stderr",
     "output_type": "stream",
     "text": [
      "\r",
      " 67%|████████████████████████████████████████████████████████                            | 6/9 [00:31<00:15,  5.21s/it]"
     ]
    },
    {
     "name": "stdout",
     "output_type": "stream",
     "text": [
      "done\n"
     ]
    },
    {
     "name": "stderr",
     "output_type": "stream",
     "text": [
      "\r",
      " 78%|█████████████████████████████████████████████████████████████████▎                  | 7/9 [00:37<00:10,  5.19s/it]"
     ]
    },
    {
     "name": "stdout",
     "output_type": "stream",
     "text": [
      "done\n"
     ]
    },
    {
     "name": "stderr",
     "output_type": "stream",
     "text": [
      "\r",
      " 89%|██████████████████████████████████████████████████████████████████████████▋         | 8/9 [00:42<00:05,  5.17s/it]"
     ]
    },
    {
     "name": "stdout",
     "output_type": "stream",
     "text": [
      "done\n"
     ]
    },
    {
     "name": "stderr",
     "output_type": "stream",
     "text": [
      "100%|████████████████████████████████████████████████████████████████████████████████████| 9/9 [00:47<00:00,  5.26s/it]"
     ]
    },
    {
     "name": "stdout",
     "output_type": "stream",
     "text": [
      "done\n"
     ]
    },
    {
     "name": "stderr",
     "output_type": "stream",
     "text": [
      "\n"
     ]
    }
   ],
   "source": [
    "details = {}\n",
    "driver = Edge(executable_path=\"D:\\PYTHON\\Primenumber task\\msedgedriver.exe\")\n",
    "driver.maximize_window()\n",
    "\n",
    "driver.get('https://qcpi.questcdn.com/cdn/posting/?group=1950787&provider=1950787')\n",
    "\n",
    "##driver.implicitly_wait(10)\n",
    "for quest in tqdm(ids):\n",
    "    WebDriverWait(driver, 5).until(EC.element_to_be_clickable((By.XPATH , f\"//a[contains(@onclick,'prevnext({quest})')]\"))).click()\n",
    "    ##driver.find_element_by_xpath(f\"//a[contains(@onclick,'prevnext({quest})')]\").click()  \n",
    "    inf = {}\n",
    "    time.sleep(5)\n",
    "    soup3 = BeautifulSoup(driver.page_source,'lxml')\n",
    "    close = soup3.findAll(class_ = \"table table-borderless posting-table\")[1].get_text().split(\"\\n\\n\\n\")[0].strip().split(\"\\n\")[1].strip().split(\" \")[1]\n",
    "    est = soup3.findAll(class_ = \"table table-borderless posting-table\")[1].get_text().split(\"\\n\\n\\n\")[2].strip().split('\\n')[1]\n",
    "    desc = soup3.findAll(class_ = \"table table-borderless posting-table\")[2].text.split(\"\\n\\n\\n\")[2].split(\"\\n\")[2]\n",
    "    inf[\"close date\"] = close\n",
    "    inf[\"est value notes\"] = est\n",
    "    inf['description'] = desc\n",
    "    details[quest] = inf\n",
    "    print('done')\n",
    "    \n",
    "    WebDriverWait(driver, 20).until(EC.element_to_be_clickable((By.XPATH,'/html/body/div[2]/div[2]/div[2]/div/div[4]/div[1]/div[4]/div[1]/ul/li[1]/a'))).click()\n",
    "    \n",
    "    #driver.find_element_by_xpath('/html/body/div[2]/div[2]/div[2]/div/div[4]/div[1]/div[4]/div[1]/ul/li[1]/a').click()\n",
    "    #ActionChains(driver).move_to_element(button).click(button).perform()"
   ]
  },
  {
   "cell_type": "code",
   "execution_count": 96,
   "id": "059f8092",
   "metadata": {},
   "outputs": [
    {
     "data": {
      "text/html": [
       "<div>\n",
       "<style scoped>\n",
       "    .dataframe tbody tr th:only-of-type {\n",
       "        vertical-align: middle;\n",
       "    }\n",
       "\n",
       "    .dataframe tbody tr th {\n",
       "        vertical-align: top;\n",
       "    }\n",
       "\n",
       "    .dataframe thead th {\n",
       "        text-align: right;\n",
       "    }\n",
       "</style>\n",
       "<table border=\"1\" class=\"dataframe\">\n",
       "  <thead>\n",
       "    <tr style=\"text-align: right;\">\n",
       "      <th></th>\n",
       "      <th>index</th>\n",
       "      <th>close date</th>\n",
       "      <th>est value notes</th>\n",
       "      <th>description</th>\n",
       "    </tr>\n",
       "  </thead>\n",
       "  <tbody>\n",
       "    <tr>\n",
       "      <th>0</th>\n",
       "      <td>8526724</td>\n",
       "      <td>06/06/2023</td>\n",
       "      <td>$1,000,000.00 to $2,500,000.00</td>\n",
       "      <td>reconstructing 3000 E at Foothill Road and add...</td>\n",
       "    </tr>\n",
       "    <tr>\n",
       "      <th>1</th>\n",
       "      <td>8529878</td>\n",
       "      <td>06/06/2023</td>\n",
       "      <td>$500,000.00 to $1,000,000.00</td>\n",
       "      <td>constructing a signal on SH-75, MP 121</td>\n",
       "    </tr>\n",
       "    <tr>\n",
       "      <th>2</th>\n",
       "      <td>8534098</td>\n",
       "      <td>06/06/2023</td>\n",
       "      <td>$500,000 to $1,000,000</td>\n",
       "      <td>Reapplying water borne pavement markings to va...</td>\n",
       "    </tr>\n",
       "    <tr>\n",
       "      <th>3</th>\n",
       "      <td>8536176</td>\n",
       "      <td>06/06/2023</td>\n",
       "      <td>$500,000 to $1,000,000</td>\n",
       "      <td>pavement striping on I-84 from MP 121.094 to M...</td>\n",
       "    </tr>\n",
       "    <tr>\n",
       "      <th>4</th>\n",
       "      <td>8539402</td>\n",
       "      <td>06/06/2023</td>\n",
       "      <td>$1,000,000.00 to $2,500,000.00</td>\n",
       "      <td>chip seal and fog coat of SH-3 from MP 111.38 ...</td>\n",
       "    </tr>\n",
       "    <tr>\n",
       "      <th>5</th>\n",
       "      <td>8539418</td>\n",
       "      <td>06/13/2023</td>\n",
       "      <td>Greater than 25 Million</td>\n",
       "      <td>constructing an interchange to include an over...</td>\n",
       "    </tr>\n",
       "    <tr>\n",
       "      <th>6</th>\n",
       "      <td>8544737</td>\n",
       "      <td>06/13/2023</td>\n",
       "      <td>$250,000 to $500,000</td>\n",
       "      <td>Restriping I-90, from MP 0 to MP 73.885 with w...</td>\n",
       "    </tr>\n",
       "    <tr>\n",
       "      <th>7</th>\n",
       "      <td>8544742</td>\n",
       "      <td>06/13/2023</td>\n",
       "      <td>$1,000,000.00 to $2,500,000.00</td>\n",
       "      <td>bridge preservation repairs on multiple bridge...</td>\n",
       "    </tr>\n",
       "    <tr>\n",
       "      <th>8</th>\n",
       "      <td>8554006</td>\n",
       "      <td>06/27/2023</td>\n",
       "      <td>$1,000,000.00 to $2,500,000.00</td>\n",
       "      <td>roadway repairs consisting of milling, paving,...</td>\n",
       "    </tr>\n",
       "  </tbody>\n",
       "</table>\n",
       "</div>"
      ],
      "text/plain": [
       "     index  close date                 est value notes  \\\n",
       "0  8526724  06/06/2023  $1,000,000.00 to $2,500,000.00   \n",
       "1  8529878  06/06/2023    $500,000.00 to $1,000,000.00   \n",
       "2  8534098  06/06/2023          $500,000 to $1,000,000   \n",
       "3  8536176  06/06/2023          $500,000 to $1,000,000   \n",
       "4  8539402  06/06/2023  $1,000,000.00 to $2,500,000.00   \n",
       "5  8539418  06/13/2023         Greater than 25 Million   \n",
       "6  8544737  06/13/2023            $250,000 to $500,000   \n",
       "7  8544742  06/13/2023  $1,000,000.00 to $2,500,000.00   \n",
       "8  8554006  06/27/2023  $1,000,000.00 to $2,500,000.00   \n",
       "\n",
       "                                         description  \n",
       "0  reconstructing 3000 E at Foothill Road and add...  \n",
       "1             constructing a signal on SH-75, MP 121  \n",
       "2  Reapplying water borne pavement markings to va...  \n",
       "3  pavement striping on I-84 from MP 121.094 to M...  \n",
       "4  chip seal and fog coat of SH-3 from MP 111.38 ...  \n",
       "5  constructing an interchange to include an over...  \n",
       "6  Restriping I-90, from MP 0 to MP 73.885 with w...  \n",
       "7  bridge preservation repairs on multiple bridge...  \n",
       "8  roadway repairs consisting of milling, paving,...  "
      ]
     },
     "execution_count": 96,
     "metadata": {},
     "output_type": "execute_result"
    }
   ],
   "source": [
    "data = pd.DataFrame(details).T.reset_index()\n",
    "data"
   ]
  },
  {
   "cell_type": "code",
   "execution_count": 95,
   "id": "1ea559b3",
   "metadata": {},
   "outputs": [],
   "source": [
    "pd.DataFrame(details).T.reset_index().to_csv(\"output.csv\")"
   ]
  },
  {
   "cell_type": "code",
   "execution_count": null,
   "id": "6827336b",
   "metadata": {},
   "outputs": [],
   "source": []
  },
  {
   "cell_type": "code",
   "execution_count": null,
   "id": "027b0689",
   "metadata": {},
   "outputs": [],
   "source": []
  }
 ],
 "metadata": {
  "kernelspec": {
   "display_name": "Python 3 (ipykernel)",
   "language": "python",
   "name": "python3"
  },
  "language_info": {
   "codemirror_mode": {
    "name": "ipython",
    "version": 3
   },
   "file_extension": ".py",
   "mimetype": "text/x-python",
   "name": "python",
   "nbconvert_exporter": "python",
   "pygments_lexer": "ipython3",
   "version": "3.9.13"
  }
 },
 "nbformat": 4,
 "nbformat_minor": 5
}
